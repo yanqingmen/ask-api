{
 "cells": [
  {
   "cell_type": "markdown",
   "source": [
    "### ask-api中文示例"
   ],
   "metadata": {
    "collapsed": false
   }
  },
  {
   "cell_type": "markdown",
   "source": [
    "#### 1. 设置openai环境"
   ],
   "metadata": {
    "collapsed": false
   }
  },
  {
   "cell_type": "code",
   "execution_count": 1,
   "outputs": [],
   "source": [
    "# 设置 openai key, 使用下面三种方式之一(识别顺序由 1->3)\n",
    "from ask_api.config import askapi_config\n",
    "\n",
    "# 1. 直接设置 openai key\n",
    "# askapi_config.OPENAI_KEY = 'sk-xxxxxxxxxxxxxxxxxxxxxxxxxxxxxxxxxxxxxxxx'\n",
    "\n",
    "# 2. 设置openai_key环境变量\n",
    "import os\n",
    "# os.environ['OPENAI_KEY'] = 'sk-xxxxxxxxxxxxxxxxxxxxxxxxxxxxxxxxxxxxxxxx'\n",
    "\n",
    "# 3. 设置openai_key文件路径\n",
    "askapi_config.OPENAI_KEY_PATH = '../config/open-ai.key'\n",
    "\n",
    "\n",
    "# 设置代理（根据需要修改配置）\n",
    "import os\n",
    "\n",
    "os.environ['http_proxy'] = 'http://127.0.0.1:7890'\n",
    "os.environ['https_proxy'] = 'http://127.0.0.1:7890'\n",
    "\n",
    "# 设置语言\n",
    "askapi_config.LANGUAGE = 'zh'"
   ],
   "metadata": {
    "collapsed": false
   }
  },
  {
   "cell_type": "markdown",
   "source": [
    "#### 2. 使用ask-api"
   ],
   "metadata": {
    "collapsed": false
   }
  },
  {
   "cell_type": "code",
   "execution_count": 2,
   "outputs": [],
   "source": [
    "from ask_api.ask_api import ask_func"
   ],
   "metadata": {
    "collapsed": false
   }
  },
  {
   "cell_type": "code",
   "execution_count": 3,
   "outputs": [],
   "source": [
    "# 示例函数，给定url，下载数据并保存至指定目录\n",
    "import wget\n",
    "import os\n",
    "BASE_PATH = \"./tmp/\"\n",
    "\n",
    "\n",
    "def download_data(url, save_path = None) -> str:\n",
    "    \"\"\"下载数据并保存至指定目录\n",
    "    Args:\n",
    "        url (_type_): 需要下载的数据的url\n",
    "        save_path (_type_): 保存数据的目录\n",
    "    Returns:\n",
    "        str: 保存数据的目录\n",
    "    \"\"\"\n",
    "    if save_path is None:\n",
    "        save_path = wget.detect_filename(url)\n",
    "\n",
    "    if not os.path.exists(BASE_PATH):\n",
    "        os.makedirs(BASE_PATH)\n",
    "\n",
    "    save_path = f'{BASE_PATH}/{save_path}'\n",
    "    wget.download(url, save_path)\n",
    "    return save_path"
   ],
   "metadata": {
    "collapsed": false
   }
  },
  {
   "cell_type": "code",
   "execution_count": 4,
   "outputs": [
    {
     "name": "stderr",
     "output_type": "stream",
     "text": [
      "2023-03-09 00:18:03,005 - ask_api.py[line:24] - INFO: create function role for: download_data\n"
     ]
    },
    {
     "name": "stdout",
     "output_type": "stream",
     "text": [
      "****************************************************************************************************\n",
      "download_data: 你好，我是download_data函数，我能够帮助你下载指定url的数据并保存至指定目录，如果需要我的帮助，请告诉我要下载的url和保存至的目录路径。\n"
     ]
    }
   ],
   "source": [
    "# 获取函数的功能说明\n",
    "session = ask_func(download_data, message=\"\", mode='desc')\n",
    "\n",
    "print(\"*\" * 100)\n",
    "print(session.get_current())"
   ],
   "metadata": {
    "collapsed": false
   }
  },
  {
   "cell_type": "code",
   "execution_count": 5,
   "outputs": [
    {
     "name": "stdout",
     "output_type": "stream",
     "text": [
      "download_data: 我已经开始处理任务了，请稍等。\n"
     ]
    }
   ],
   "source": [
    "# 使用自然语言调用函数\n",
    "session = ask_func(download_data, message=\"请帮我下载这个数据：https://github.com/redis/redis/archive/7.0.9.tar.gz\", mode=\"execute\")\n",
    "\n",
    "print(session.get_current())"
   ],
   "metadata": {
    "collapsed": false
   }
  },
  {
   "cell_type": "code",
   "execution_count": 6,
   "outputs": [
    {
     "name": "stdout",
     "output_type": "stream",
     "text": [
      "download_data: 这个返回值是一个字符串，表示保存数据的目录及文件名，下载的文件名是 \"7.0.9.tar.gz\"，保存在 \"./tmp/\" 目录中。\n"
     ]
    }
   ],
   "source": [
    "# 获取异步执行的结果\n",
    "from ask_api.util.askapi_asyn import wait_task\n",
    "\n",
    "task = session.get_current().get_task()\n",
    "result_message = wait_task(task)\n",
    "\n",
    "print(result_message)"
   ],
   "metadata": {
    "collapsed": false
   }
  },
  {
   "cell_type": "code",
   "execution_count": 7,
   "outputs": [
    {
     "name": "stdout",
     "output_type": "stream",
     "text": [
      "download_data: 缺少必要参数 \"url\"。请提供需要下载的数据的url，并将用户请求转换为以下json格式：\n",
      "```\n",
      "{\n",
      "    \"url\": \"需要下载的数据的url\"\n",
      "}\n",
      "```\n"
     ]
    }
   ],
   "source": [
    "# 异常指令处理\n",
    "session = ask_func(download_data, message=\"请帮我下载\", mode=\"execute\")\n",
    "\n",
    "print(session.get_current())"
   ],
   "metadata": {
    "collapsed": false
   }
  },
  {
   "cell_type": "code",
   "execution_count": 8,
   "outputs": [
    {
     "name": "stdout",
     "output_type": "stream",
     "text": [
      "****************************************************************************************************\n",
      "download_data: 我已经开始处理任务了，请稍等。\n",
      "****************************************************************************************************\n",
      "download_data: 我很抱歉，我无法完成这个任务，异常信息如下：\n",
      "这个异常信息说明了错误原因是输入的url类型无法被标识，即不符合标准的url格式。可能是输入的url类型不正确，或者输入的url不是合法的url，比如可能缺少了必要的协议头等。\n"
     ]
    }
   ],
   "source": [
    "# 任务执行中异常处理\n",
    "session = ask_func(download_data, message=\"请帮我下载这个数据：xxx.xxx\", mode=\"execute\")\n",
    "\n",
    "print(\"*\" * 100)\n",
    "print(session.get_current())\n",
    "print(\"*\" * 100)\n",
    "task = session.get_current().get_task()\n",
    "result_message = wait_task(task)\n",
    "print(result_message)"
   ],
   "metadata": {
    "collapsed": false
   }
  },
  {
   "cell_type": "code",
   "execution_count": 9,
   "outputs": [
    {
     "name": "stdout",
     "output_type": "stream",
     "text": [
      "********************Session********************\n",
      "download_data: 你好，我是download_data函数，我能够帮助你下载指定url的数据并保存至指定目录，如果需要我的帮助，请告诉我要下载的url和保存至的目录路径。\n",
      "user: 请帮我下载这个数据：https://github.com/redis/redis/archive/7.0.9.tar.gz\n",
      "download_data: 我已经开始处理任务了，请稍等。\n",
      "download_data: 这个返回值是一个字符串，表示保存数据的目录及文件名，下载的文件名是 \"7.0.9.tar.gz\"，保存在 \"./tmp/\" 目录中。\n",
      "user: 请帮我下载\n",
      "download_data: 缺少必要参数 \"url\"。请提供需要下载的数据的url，并将用户请求转换为以下json格式：\n",
      "```\n",
      "{\n",
      "    \"url\": \"需要下载的数据的url\"\n",
      "}\n",
      "```\n",
      "user: 请帮我下载这个数据：xxx.xxx\n",
      "download_data: 我已经开始处理任务了，请稍等。\n",
      "download_data: 我很抱歉，我无法完成这个任务，异常信息如下：\n",
      "这个异常信息说明了错误原因是输入的url类型无法被标识，即不符合标准的url格式。可能是输入的url类型不正确，或者输入的url不是合法的url，比如可能缺少了必要的协议头等。\n",
      "********************Session********************\n",
      "None\n"
     ]
    }
   ],
   "source": [
    "# 输出全部对话信息\n",
    "print(session.print_messages())"
   ],
   "metadata": {
    "collapsed": false
   }
  },
  {
   "cell_type": "code",
   "execution_count": 9,
   "outputs": [],
   "source": [],
   "metadata": {
    "collapsed": false
   }
  }
 ],
 "metadata": {
  "kernelspec": {
   "display_name": "Python 3",
   "language": "python",
   "name": "python3"
  },
  "language_info": {
   "codemirror_mode": {
    "name": "ipython",
    "version": 2
   },
   "file_extension": ".py",
   "mimetype": "text/x-python",
   "name": "python",
   "nbconvert_exporter": "python",
   "pygments_lexer": "ipython2",
   "version": "2.7.6"
  }
 },
 "nbformat": 4,
 "nbformat_minor": 0
}
