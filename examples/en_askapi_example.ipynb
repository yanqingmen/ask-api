{
 "cells": [
  {
   "cell_type": "markdown",
   "source": [
    "## askapi example for en lang"
   ],
   "metadata": {
    "collapsed": false
   },
   "execution_count": 1
  },
  {
   "cell_type": "markdown",
   "source": [
    "#### 1.0 set openai key"
   ],
   "metadata": {
    "collapsed": false
   }
  },
  {
   "cell_type": "code",
   "execution_count": 1,
   "outputs": [],
   "source": [
    "# set openai key, choose one of the following three methods\n",
    "from ask_api.config import askapi_config\n",
    "\n",
    "# option 1\n",
    "# askapi_config.OPENAI_KEY = 'sk-xxxxxxxxxxxxxxxxxxxxxxxxxxxxxxxxxxxxxxxx'\n",
    "\n",
    "# option 2\n",
    "import os\n",
    "# os.environ['OPENAI_KEY'] = 'sk-xxxxxxxxxxxxxxxxxxxxxxxxxxxxxxxxxxxxxxxx'\n",
    "\n",
    "# option 3\n",
    "askapi_config.OPENAI_KEY_PATH = '../config/open-ai.key'\n",
    "\n",
    "\n",
    "# set proxy if needed, change the ip and port to your own\n",
    "import os\n",
    "\n",
    "os.environ['http_proxy'] = 'http://127.0.0.1:7890'\n",
    "os.environ['https_proxy'] = 'http://127.0.0.1:7890'\n",
    "\n",
    "# setting language\n",
    "askapi_config.LANG = 'en'"
   ],
   "metadata": {
    "collapsed": false
   }
  },
  {
   "cell_type": "markdown",
   "source": [
    "#### 2.0 using askapi"
   ],
   "metadata": {
    "collapsed": false
   }
  },
  {
   "cell_type": "code",
   "execution_count": 2,
   "outputs": [],
   "source": [
    "from ask_api.ask_api import ask_func"
   ],
   "metadata": {
    "collapsed": false
   }
  },
  {
   "cell_type": "code",
   "execution_count": 3,
   "outputs": [],
   "source": [
    "# example function, given url，download the data and return the path\n",
    "import wget\n",
    "import os\n",
    "BASE_PATH = \"./tmp/\"\n",
    "\n",
    "\n",
    "def download_data(url, save_path = None) -> str:\n",
    "    \"\"\"download data from url\n",
    "    Args:\n",
    "        url (_type_): the url of data\n",
    "        save_path (_type_): the path to save data\n",
    "    Returns:\n",
    "        str: the path of data\n",
    "    \"\"\"\n",
    "    if save_path is None:\n",
    "        save_path = wget.detect_filename(url)\n",
    "\n",
    "    if not os.path.exists(BASE_PATH):\n",
    "        os.makedirs(BASE_PATH)\n",
    "\n",
    "    save_path = f'{BASE_PATH}/{save_path}'\n",
    "    wget.download(url, save_path)\n",
    "    return save_path"
   ],
   "metadata": {
    "collapsed": false
   }
  },
  {
   "cell_type": "code",
   "execution_count": 4,
   "outputs": [
    {
     "name": "stderr",
     "output_type": "stream",
     "text": [
      "2023-03-09 10:17:13,162 - ask_api.py[line:24] - INFO: create function role for: download_data\n"
     ]
    },
    {
     "name": "stdout",
     "output_type": "stream",
     "text": [
      "****************************************************************************************************\n",
      "download_data: Hello! I am a function called download_data. I can help you download data from a given url to a specified location. You can give me a url and an optional save path, and I will download the data for you and return the path where it was saved.\n"
     ]
    }
   ],
   "source": [
    "# use ask_func to ask the function's description\n",
    "session = ask_func(download_data, message=\"\", mode='desc')\n",
    "\n",
    "print(\"*\" * 100)\n",
    "print(session.get_current())"
   ],
   "metadata": {
    "collapsed": false
   }
  },
  {
   "cell_type": "code",
   "execution_count": 5,
   "outputs": [
    {
     "name": "stdout",
     "output_type": "stream",
     "text": [
      "download_data: I'm processing the task, please wait a moment.\n"
     ]
    }
   ],
   "source": [
    "# use natural language to execute the function\n",
    "session = ask_func(download_data, message=\"please download this data for me：https://github.com/redis/redis/archive/7.0.9.tar.gz\", mode=\"execute\")\n",
    "\n",
    "print(session.get_current())"
   ],
   "metadata": {
    "collapsed": false
   }
  },
  {
   "cell_type": "code",
   "execution_count": 8,
   "outputs": [
    {
     "name": "stdout",
     "output_type": "stream",
     "text": [
      "task is compelte!\n",
      "download_data: The returned value ./tmp//7.0.9.tar.gz specifies the path where the downloaded data is saved. Here, the file name of the downloaded data is 7.0.9.tar.gz, and the path where the data is saved is ./tmp/.\n"
     ]
    }
   ],
   "source": [
    "# get result of the function task\n",
    "from ask_api.util.askapi_asyn import wait_task\n",
    "\n",
    "task = session.get_current().get_task()\n",
    "if task is None:\n",
    "    print(\"task is complete!\")\n",
    "    print(session.get_current())\n",
    "else:\n",
    "    print(\"task is running\")\n",
    "    result = wait_task(task)\n",
    "    print(result)\n"
   ],
   "metadata": {
    "collapsed": false
   }
  },
  {
   "cell_type": "code",
   "execution_count": 9,
   "outputs": [
    {
     "name": "stdout",
     "output_type": "stream",
     "text": [
      "download_data: I'm sorry, I cannot convert the user request to parameters in JSON format without more information. In order for me to generate the correct JSON format, I need to know the specific URL of the data that needs to be downloaded.\n"
     ]
    }
   ],
   "source": [
    "# handling invalid message\n",
    "session = ask_func(download_data, message=\"please download this data for me\", mode=\"execute\")\n",
    "\n",
    "print(session.get_current())"
   ],
   "metadata": {
    "collapsed": false
   }
  },
  {
   "cell_type": "code",
   "execution_count": 10,
   "outputs": [
    {
     "name": "stdout",
     "output_type": "stream",
     "text": [
      "****************************************************************************************************\n",
      "download_data: I'm processing the task, please wait a moment.\n",
      "****************************************************************************************************\n",
      "task is running\n",
      "download_data: I'm sorry, I can't do this task, the exception information is as follows:\n",
      " This exception information indicates that an error has occurred during the execution of the function. Specifically, the error message is \"unknown url type: 'xxx.xxx'\", which means that the input URL is not a recognized type, and therefore the function cannot proceed to download the data. \"xxx.xxx\" is just a generic representation of the invalid URL.\n"
     ]
    }
   ],
   "source": [
    "# handling task exception\n",
    "session = ask_func(download_data, message=\"please download this data for me：xxx.xxx\", mode=\"execute\")\n",
    "\n",
    "print(\"*\" * 100)\n",
    "print(session.get_current())\n",
    "print(\"*\" * 100)\n",
    "task = session.get_current().get_task()\n",
    "if task is None:\n",
    "    print(\"task is complete!\")\n",
    "    print(session.get_current())\n",
    "else:\n",
    "    print(\"task is running\")\n",
    "    result = wait_task(task)\n",
    "    print(result)\n"
   ],
   "metadata": {
    "collapsed": false
   }
  },
  {
   "cell_type": "code",
   "execution_count": null,
   "outputs": [],
   "source": [],
   "metadata": {
    "collapsed": false
   }
  }
 ],
 "metadata": {
  "kernelspec": {
   "display_name": "Python 3",
   "language": "python",
   "name": "python3"
  },
  "language_info": {
   "codemirror_mode": {
    "name": "ipython",
    "version": 2
   },
   "file_extension": ".py",
   "mimetype": "text/x-python",
   "name": "python",
   "nbconvert_exporter": "python",
   "pygments_lexer": "ipython2",
   "version": "2.7.6"
  }
 },
 "nbformat": 4,
 "nbformat_minor": 0
}
