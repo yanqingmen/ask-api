{
 "cells": [
  {
   "cell_type": "markdown",
   "source": [
    "### 基于openai api的llm调用示例"
   ],
   "metadata": {
    "collapsed": false
   }
  },
  {
   "cell_type": "markdown",
   "source": [
    "#### 1. 设置openai环境"
   ],
   "metadata": {
    "collapsed": false
   }
  },
  {
   "cell_type": "code",
   "execution_count": 1,
   "outputs": [],
   "source": [
    "# 设置 openai key, 使用下面三种方式之一(识别顺序由 1->3)\n",
    "from ask_api.config import askapi_config\n",
    "\n",
    "# 1. 直接设置 openai key\n",
    "# askapi_config.OPENAI_KEY = 'sk-xxxxxxxxxxxxxxxxxxxxxxxxxxxxxxxxxxxxxxxx'\n",
    "\n",
    "# 2. 设置openai_key环境变量\n",
    "import os\n",
    "# os.environ['OPENAI_KEY'] = 'sk-xxxxxxxxxxxxxxxxxxxxxxxxxxxxxxxxxxxxxxxx'\n",
    "\n",
    "# 3. 设置openai_key文件路径\n",
    "askapi_config.OPENAI_KEY_PATH = '../config/open-ai.key'\n"
   ],
   "metadata": {
    "collapsed": false
   }
  },
  {
   "cell_type": "code",
   "execution_count": 2,
   "outputs": [],
   "source": [
    "# 设置代理（根据需要修改配置）\n",
    "import os\n",
    "\n",
    "os.environ['http_proxy'] = 'http://127.0.0.1:7890'\n",
    "os.environ['https_proxy'] = 'http://127.0.0.1:7890'"
   ],
   "metadata": {
    "collapsed": false
   }
  },
  {
   "cell_type": "code",
   "execution_count": 3,
   "outputs": [],
   "source": [
    "# 设置语言\n",
    "askapi_config.LANGUAGE = 'zh'\n"
   ],
   "metadata": {
    "collapsed": false
   }
  },
  {
   "cell_type": "code",
   "execution_count": 4,
   "outputs": [
    {
     "data": {
      "text/plain": "['openai_chat']"
     },
     "execution_count": 4,
     "metadata": {},
     "output_type": "execute_result"
    }
   ],
   "source": [
    "# 测试import llm模块，这里如果没有报错，说明环境配置成功\n",
    "from ask_api.llm.llm_util import build_default_llm, list_llm\n",
    "\n",
    "list_llm()"
   ],
   "metadata": {
    "collapsed": false
   }
  },
  {
   "cell_type": "markdown",
   "source": [
    "#### 2. 调用llm测试"
   ],
   "metadata": {
    "collapsed": false
   }
  },
  {
   "cell_type": "code",
   "execution_count": 5,
   "outputs": [],
   "source": [
    "# 测试用的function\n",
    "def split_text(text: str, sep: str = \" \") -> list:\n",
    "    \"\"\"\n",
    "    将文本按照分隔符分割成列表\n",
    "    \"\"\"\n",
    "    return text.split(sep)"
   ],
   "metadata": {
    "collapsed": false
   }
  },
  {
   "cell_type": "code",
   "execution_count": 6,
   "outputs": [
    {
     "data": {
      "text/plain": "ask_api.llm.openai.OpenAIChat"
     },
     "execution_count": 6,
     "metadata": {},
     "output_type": "execute_result"
    }
   ],
   "source": [
    "# 初始化llm\n",
    "llm = build_default_llm()\n",
    "\n",
    "llm.__class__"
   ],
   "metadata": {
    "collapsed": false
   }
  },
  {
   "cell_type": "code",
   "execution_count": 7,
   "outputs": [
    {
     "name": "stdout",
     "output_type": "stream",
     "text": [
      "func desc:  你好，我是`split_text`，我的功能是将给定的文本按照指定的分隔符分割成列表，如果你需要将一段文本按照指定的字符分隔成列表，请告诉我需要分割的文本和分隔符即可。\n"
     ]
    }
   ],
   "source": [
    "# 获取函数的描述信息\n",
    "desc = llm.desc(split_text)\n",
    "\n",
    "print(\"func desc: \", desc)"
   ],
   "metadata": {
    "collapsed": false
   }
  },
  {
   "cell_type": "code",
   "execution_count": 8,
   "outputs": [
    {
     "name": "stdout",
     "output_type": "stream",
     "text": [
      "params:  {\n",
      "    \"text\": \"《灰姑娘》,《白雪公主》,《小红帽》,《青蛙王子》,都是格林童话\",\n",
      "    \"sep\": \",\"\n",
      "}\n"
     ]
    }
   ],
   "source": [
    "# 自然语言转换参数\n",
    "text = \"请帮我以逗号分隔这段话：《灰姑娘》,《白雪公主》,《小红帽》,《青蛙王子》,都是格林童话\"\n",
    "params = llm.execute_param(split_text, text)\n",
    "\n",
    "print(\"params: \", params)"
   ],
   "metadata": {
    "collapsed": false
   }
  },
  {
   "cell_type": "code",
   "execution_count": 8,
   "outputs": [],
   "source": [],
   "metadata": {
    "collapsed": false
   }
  }
 ],
 "metadata": {
  "kernelspec": {
   "display_name": "Python 3",
   "language": "python",
   "name": "python3"
  },
  "language_info": {
   "codemirror_mode": {
    "name": "ipython",
    "version": 2
   },
   "file_extension": ".py",
   "mimetype": "text/x-python",
   "name": "python",
   "nbconvert_exporter": "python",
   "pygments_lexer": "ipython2",
   "version": "2.7.6"
  }
 },
 "nbformat": 4,
 "nbformat_minor": 0
}
